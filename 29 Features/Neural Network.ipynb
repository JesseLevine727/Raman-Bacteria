{
 "cells": [
  {
   "cell_type": "code",
   "execution_count": 140,
   "metadata": {},
   "outputs": [],
   "source": [
    "import pandas as pd\n",
    "import numpy as np\n",
    "import torch\n",
    "import torch.nn as nn\n",
    "import torch.nn.functional as F\n",
    "import torch.optim as optim\n",
    "from sklearn.preprocessing import OneHotEncoder\n",
    "from torch.utils.data import DataLoader, TensorDataset"
   ]
  },
  {
   "cell_type": "code",
   "execution_count": 141,
   "metadata": {},
   "outputs": [],
   "source": [
    "data = pd.read_csv(\"29Y_IQR.csv\")\n",
    "spectra = data.iloc[:, :-1]\n",
    "label = data.iloc[:, -1]\n",
    "\n",
    "data_2 = pd.read_csv(\"PAO & MSSA.csv\")\n",
    "spectra_2 = data_2.iloc[:, :-1]"
   ]
  },
  {
   "cell_type": "code",
   "execution_count": 142,
   "metadata": {},
   "outputs": [
    {
     "name": "stderr",
     "output_type": "stream",
     "text": [
      "c:\\Users\\elfo\\AppData\\Local\\Programs\\Python\\Python312\\Lib\\site-packages\\sklearn\\preprocessing\\_encoders.py:975: FutureWarning: `sparse` was renamed to `sparse_output` in version 1.2 and will be removed in 1.4. `sparse_output` is ignored unless you leave `sparse` to its default value.\n",
      "  warnings.warn(\n"
     ]
    }
   ],
   "source": [
    "encoder = OneHotEncoder(sparse=False)\n",
    "y_train_encoded = encoder.fit_transform(label.values.reshape(-1,1))\n",
    "\n",
    "X_train_tensor = torch.tensor(spectra.values, dtype = torch.float32)\n",
    "y_train_tensor = torch.tensor(y_train_encoded, dtype = torch.float32)"
   ]
  },
  {
   "cell_type": "code",
   "execution_count": 143,
   "metadata": {},
   "outputs": [],
   "source": [
    "dataset= TensorDataset(X_train_tensor, y_train_tensor)\n",
    "loader = DataLoader(dataset, batch_size = 128, shuffle = True)"
   ]
  },
  {
   "cell_type": "code",
   "execution_count": 144,
   "metadata": {},
   "outputs": [],
   "source": [
    "class RamanNet(nn.Module):\n",
    "    def __init__(self):\n",
    "        super(RamanNet, self).__init__()\n",
    "        self.fc1 = nn.Linear(spectra.shape[1], 256)  # Adjust the input features\n",
    "        self.fc2 = nn.Linear(256, 128)\n",
    "        self.fc3 = nn.Linear(128, 64)\n",
    "        self.fc4 = nn.Linear(64, 6)\n",
    "\n",
    "    def forward(self, x):\n",
    "        x = F.relu(self.fc1(x))\n",
    "        x = F.relu(self.fc2(x))\n",
    "        x = F.relu(self.fc3(x))\n",
    "        x = torch.sigmoid(self.fc4(x))  # Sigmoid for binary classification on each label\n",
    "        return x\n",
    "    \n",
    "model = RamanNet()"
   ]
  },
  {
   "cell_type": "code",
   "execution_count": 145,
   "metadata": {},
   "outputs": [
    {
     "name": "stdout",
     "output_type": "stream",
     "text": [
      "Epoch 1, Loss: 0.48574671149253845\n",
      "Epoch 2, Loss: 0.47007179260253906\n",
      "Epoch 3, Loss: 0.45333731174468994\n",
      "Epoch 4, Loss: 0.4366679787635803\n",
      "Epoch 5, Loss: 0.402376651763916\n",
      "Epoch 6, Loss: 0.36849677562713623\n",
      "Epoch 7, Loss: 0.32795342803001404\n",
      "Epoch 8, Loss: 0.31524839997291565\n",
      "Epoch 9, Loss: 0.2967030704021454\n",
      "Epoch 10, Loss: 0.31296488642692566\n",
      "Epoch 11, Loss: 0.30840229988098145\n",
      "Epoch 12, Loss: 0.2965785562992096\n",
      "Epoch 13, Loss: 0.26814770698547363\n",
      "Epoch 14, Loss: 0.25259578227996826\n",
      "Epoch 15, Loss: 0.24344433844089508\n",
      "Epoch 16, Loss: 0.27961722016334534\n",
      "Epoch 17, Loss: 0.23685815930366516\n",
      "Epoch 18, Loss: 0.2588938772678375\n",
      "Epoch 19, Loss: 0.23645901679992676\n",
      "Epoch 20, Loss: 0.23789532482624054\n",
      "Epoch 21, Loss: 0.2146650105714798\n",
      "Epoch 22, Loss: 0.2075350135564804\n",
      "Epoch 23, Loss: 0.21639806032180786\n",
      "Epoch 24, Loss: 0.17372386157512665\n",
      "Epoch 25, Loss: 0.19815713167190552\n",
      "Epoch 26, Loss: 0.16410210728645325\n",
      "Epoch 27, Loss: 0.16384470462799072\n",
      "Epoch 28, Loss: 0.17432080209255219\n",
      "Epoch 29, Loss: 0.17753292620182037\n",
      "Epoch 30, Loss: 0.1360670030117035\n",
      "Epoch 31, Loss: 0.19318780303001404\n",
      "Epoch 32, Loss: 0.1585482954978943\n",
      "Epoch 33, Loss: 0.13884049654006958\n",
      "Epoch 34, Loss: 0.14451321959495544\n",
      "Epoch 35, Loss: 0.12304581701755524\n",
      "Epoch 36, Loss: 0.14141802489757538\n",
      "Epoch 37, Loss: 0.13954049348831177\n",
      "Epoch 38, Loss: 0.15948306024074554\n",
      "Epoch 39, Loss: 0.1035771518945694\n",
      "Epoch 40, Loss: 0.1403956264257431\n",
      "Epoch 41, Loss: 0.11767033487558365\n",
      "Epoch 42, Loss: 0.10979686677455902\n",
      "Epoch 43, Loss: 0.15213201940059662\n",
      "Epoch 44, Loss: 0.10972358286380768\n",
      "Epoch 45, Loss: 0.10435202717781067\n",
      "Epoch 46, Loss: 0.12553250789642334\n",
      "Epoch 47, Loss: 0.13428086042404175\n",
      "Epoch 48, Loss: 0.10651249438524246\n",
      "Epoch 49, Loss: 0.1071668341755867\n",
      "Epoch 50, Loss: 0.08608606457710266\n"
     ]
    }
   ],
   "source": [
    "criterion = nn.BCELoss()\n",
    "optimizer = optim.Adam(model.parameters(), lr = 0.001)\n",
    "\n",
    "epochs = 50\n",
    "\n",
    "for epoch in range(epochs):\n",
    "    for spectra, labels in loader:\n",
    "        optimizer.zero_grad()\n",
    "        outputs = model(spectra)\n",
    "        loss = criterion(outputs, labels)\n",
    "        loss.backward()\n",
    "        optimizer.step()\n",
    "    print(f\"Epoch {epoch+1}, Loss: {loss.item()}\")"
   ]
  },
  {
   "cell_type": "code",
   "execution_count": 146,
   "metadata": {},
   "outputs": [
    {
     "name": "stdout",
     "output_type": "stream",
     "text": [
      "tensor([[0.0527, 0.0082, 0.0621, 0.0254, 0.3303, 0.0076],\n",
      "        [0.1491, 0.0082, 0.0533, 0.0410, 0.2088, 0.0070]],\n",
      "       grad_fn=<SigmoidBackward0>)\n"
     ]
    }
   ],
   "source": [
    "test_tensor = torch.tensor(spectra_2.values, dtype = torch.float32)\n",
    "\n",
    "predict = model(test_tensor)\n",
    "print(predict)"
   ]
  }
 ],
 "metadata": {
  "kernelspec": {
   "display_name": "Python 3",
   "language": "python",
   "name": "python3"
  },
  "language_info": {
   "codemirror_mode": {
    "name": "ipython",
    "version": 3
   },
   "file_extension": ".py",
   "mimetype": "text/x-python",
   "name": "python",
   "nbconvert_exporter": "python",
   "pygments_lexer": "ipython3",
   "version": "3.12.1"
  }
 },
 "nbformat": 4,
 "nbformat_minor": 2
}
